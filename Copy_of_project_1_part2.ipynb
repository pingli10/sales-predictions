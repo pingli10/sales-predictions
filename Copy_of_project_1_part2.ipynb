{
  "nbformat": 4,
  "nbformat_minor": 0,
  "metadata": {
    "colab": {
      "name": "Copy of project 1 part2.ipynb",
      "provenance": [],
      "mount_file_id": "11gl_EcFFrlcScv8TELpzwL0MlfKwK3c1",
      "authorship_tag": "ABX9TyPvx1RCGDg3BCBobtY2beQ7",
      "include_colab_link": true
    },
    "kernelspec": {
      "name": "python3",
      "display_name": "Python 3"
    },
    "language_info": {
      "name": "python"
    }
  },
  "cells": [
    {
      "cell_type": "markdown",
      "metadata": {
        "id": "view-in-github",
        "colab_type": "text"
      },
      "source": [
        "<a href=\"https://colab.research.google.com/github/pingli10/sales-predictions/blob/main/Copy_of_project_1_part2.ipynb\" target=\"_parent\"><img src=\"https://colab.research.google.com/assets/colab-badge.svg\" alt=\"Open In Colab\"/></a>"
      ]
    },
    {
      "cell_type": "code",
      "source": [
        "import pandas as pd\n",
        "import numpy as np\n",
        "import matplotlib.pyplot as plt\n",
        "import seaborn as sns\n",
        "filename = '/content/drive/MyDrive/coding dojo/week 3 4 project 3 part 3/sales_predictions (1).csv'\n",
        "df = pd.read_csv(filename)\n",
        "\n",
        "\n",
        "\n",
        "\n"
      ],
      "metadata": {
        "id": "zOWHrVHY95re"
      },
      "execution_count": null,
      "outputs": []
    },
    {
      "cell_type": "code",
      "source": [
        "df.head()\n"
      ],
      "metadata": {
        "id": "8ujK4ZqT99GB",
        "colab": {
          "base_uri": "https://localhost:8080/",
          "height": 357
        },
        "outputId": "ef541119-4dad-47e2-d611-7786b2a42ef0"
      },
      "execution_count": null,
      "outputs": [
        {
          "output_type": "execute_result",
          "data": {
            "text/plain": [
              "  Item_Identifier  Item_Weight Item_Fat_Content  Item_Visibility  \\\n",
              "0           FDA15         9.30          Low Fat         0.016047   \n",
              "1           DRC01         5.92          Regular         0.019278   \n",
              "2           FDN15        17.50          Low Fat         0.016760   \n",
              "3           FDX07        19.20          Regular         0.000000   \n",
              "4           NCD19         8.93          Low Fat         0.000000   \n",
              "\n",
              "               Item_Type  Item_MRP Outlet_Identifier  \\\n",
              "0                  Dairy  249.8092            OUT049   \n",
              "1            Soft Drinks   48.2692            OUT018   \n",
              "2                   Meat  141.6180            OUT049   \n",
              "3  Fruits and Vegetables  182.0950            OUT010   \n",
              "4              Household   53.8614            OUT013   \n",
              "\n",
              "   Outlet_Establishment_Year Outlet_Size Outlet_Location_Type  \\\n",
              "0                       1999      Medium               Tier 1   \n",
              "1                       2009      Medium               Tier 3   \n",
              "2                       1999      Medium               Tier 1   \n",
              "3                       1998         NaN               Tier 3   \n",
              "4                       1987        High               Tier 3   \n",
              "\n",
              "         Outlet_Type  Item_Outlet_Sales  \n",
              "0  Supermarket Type1          3735.1380  \n",
              "1  Supermarket Type2           443.4228  \n",
              "2  Supermarket Type1          2097.2700  \n",
              "3      Grocery Store           732.3800  \n",
              "4  Supermarket Type1           994.7052  "
            ],
            "text/html": [
              "\n",
              "  <div id=\"df-71cfd70c-bc52-49c0-854b-2e747003a00c\">\n",
              "    <div class=\"colab-df-container\">\n",
              "      <div>\n",
              "<style scoped>\n",
              "    .dataframe tbody tr th:only-of-type {\n",
              "        vertical-align: middle;\n",
              "    }\n",
              "\n",
              "    .dataframe tbody tr th {\n",
              "        vertical-align: top;\n",
              "    }\n",
              "\n",
              "    .dataframe thead th {\n",
              "        text-align: right;\n",
              "    }\n",
              "</style>\n",
              "<table border=\"1\" class=\"dataframe\">\n",
              "  <thead>\n",
              "    <tr style=\"text-align: right;\">\n",
              "      <th></th>\n",
              "      <th>Item_Identifier</th>\n",
              "      <th>Item_Weight</th>\n",
              "      <th>Item_Fat_Content</th>\n",
              "      <th>Item_Visibility</th>\n",
              "      <th>Item_Type</th>\n",
              "      <th>Item_MRP</th>\n",
              "      <th>Outlet_Identifier</th>\n",
              "      <th>Outlet_Establishment_Year</th>\n",
              "      <th>Outlet_Size</th>\n",
              "      <th>Outlet_Location_Type</th>\n",
              "      <th>Outlet_Type</th>\n",
              "      <th>Item_Outlet_Sales</th>\n",
              "    </tr>\n",
              "  </thead>\n",
              "  <tbody>\n",
              "    <tr>\n",
              "      <th>0</th>\n",
              "      <td>FDA15</td>\n",
              "      <td>9.30</td>\n",
              "      <td>Low Fat</td>\n",
              "      <td>0.016047</td>\n",
              "      <td>Dairy</td>\n",
              "      <td>249.8092</td>\n",
              "      <td>OUT049</td>\n",
              "      <td>1999</td>\n",
              "      <td>Medium</td>\n",
              "      <td>Tier 1</td>\n",
              "      <td>Supermarket Type1</td>\n",
              "      <td>3735.1380</td>\n",
              "    </tr>\n",
              "    <tr>\n",
              "      <th>1</th>\n",
              "      <td>DRC01</td>\n",
              "      <td>5.92</td>\n",
              "      <td>Regular</td>\n",
              "      <td>0.019278</td>\n",
              "      <td>Soft Drinks</td>\n",
              "      <td>48.2692</td>\n",
              "      <td>OUT018</td>\n",
              "      <td>2009</td>\n",
              "      <td>Medium</td>\n",
              "      <td>Tier 3</td>\n",
              "      <td>Supermarket Type2</td>\n",
              "      <td>443.4228</td>\n",
              "    </tr>\n",
              "    <tr>\n",
              "      <th>2</th>\n",
              "      <td>FDN15</td>\n",
              "      <td>17.50</td>\n",
              "      <td>Low Fat</td>\n",
              "      <td>0.016760</td>\n",
              "      <td>Meat</td>\n",
              "      <td>141.6180</td>\n",
              "      <td>OUT049</td>\n",
              "      <td>1999</td>\n",
              "      <td>Medium</td>\n",
              "      <td>Tier 1</td>\n",
              "      <td>Supermarket Type1</td>\n",
              "      <td>2097.2700</td>\n",
              "    </tr>\n",
              "    <tr>\n",
              "      <th>3</th>\n",
              "      <td>FDX07</td>\n",
              "      <td>19.20</td>\n",
              "      <td>Regular</td>\n",
              "      <td>0.000000</td>\n",
              "      <td>Fruits and Vegetables</td>\n",
              "      <td>182.0950</td>\n",
              "      <td>OUT010</td>\n",
              "      <td>1998</td>\n",
              "      <td>NaN</td>\n",
              "      <td>Tier 3</td>\n",
              "      <td>Grocery Store</td>\n",
              "      <td>732.3800</td>\n",
              "    </tr>\n",
              "    <tr>\n",
              "      <th>4</th>\n",
              "      <td>NCD19</td>\n",
              "      <td>8.93</td>\n",
              "      <td>Low Fat</td>\n",
              "      <td>0.000000</td>\n",
              "      <td>Household</td>\n",
              "      <td>53.8614</td>\n",
              "      <td>OUT013</td>\n",
              "      <td>1987</td>\n",
              "      <td>High</td>\n",
              "      <td>Tier 3</td>\n",
              "      <td>Supermarket Type1</td>\n",
              "      <td>994.7052</td>\n",
              "    </tr>\n",
              "  </tbody>\n",
              "</table>\n",
              "</div>\n",
              "      <button class=\"colab-df-convert\" onclick=\"convertToInteractive('df-71cfd70c-bc52-49c0-854b-2e747003a00c')\"\n",
              "              title=\"Convert this dataframe to an interactive table.\"\n",
              "              style=\"display:none;\">\n",
              "        \n",
              "  <svg xmlns=\"http://www.w3.org/2000/svg\" height=\"24px\"viewBox=\"0 0 24 24\"\n",
              "       width=\"24px\">\n",
              "    <path d=\"M0 0h24v24H0V0z\" fill=\"none\"/>\n",
              "    <path d=\"M18.56 5.44l.94 2.06.94-2.06 2.06-.94-2.06-.94-.94-2.06-.94 2.06-2.06.94zm-11 1L8.5 8.5l.94-2.06 2.06-.94-2.06-.94L8.5 2.5l-.94 2.06-2.06.94zm10 10l.94 2.06.94-2.06 2.06-.94-2.06-.94-.94-2.06-.94 2.06-2.06.94z\"/><path d=\"M17.41 7.96l-1.37-1.37c-.4-.4-.92-.59-1.43-.59-.52 0-1.04.2-1.43.59L10.3 9.45l-7.72 7.72c-.78.78-.78 2.05 0 2.83L4 21.41c.39.39.9.59 1.41.59.51 0 1.02-.2 1.41-.59l7.78-7.78 2.81-2.81c.8-.78.8-2.07 0-2.86zM5.41 20L4 18.59l7.72-7.72 1.47 1.35L5.41 20z\"/>\n",
              "  </svg>\n",
              "      </button>\n",
              "      \n",
              "  <style>\n",
              "    .colab-df-container {\n",
              "      display:flex;\n",
              "      flex-wrap:wrap;\n",
              "      gap: 12px;\n",
              "    }\n",
              "\n",
              "    .colab-df-convert {\n",
              "      background-color: #E8F0FE;\n",
              "      border: none;\n",
              "      border-radius: 50%;\n",
              "      cursor: pointer;\n",
              "      display: none;\n",
              "      fill: #1967D2;\n",
              "      height: 32px;\n",
              "      padding: 0 0 0 0;\n",
              "      width: 32px;\n",
              "    }\n",
              "\n",
              "    .colab-df-convert:hover {\n",
              "      background-color: #E2EBFA;\n",
              "      box-shadow: 0px 1px 2px rgba(60, 64, 67, 0.3), 0px 1px 3px 1px rgba(60, 64, 67, 0.15);\n",
              "      fill: #174EA6;\n",
              "    }\n",
              "\n",
              "    [theme=dark] .colab-df-convert {\n",
              "      background-color: #3B4455;\n",
              "      fill: #D2E3FC;\n",
              "    }\n",
              "\n",
              "    [theme=dark] .colab-df-convert:hover {\n",
              "      background-color: #434B5C;\n",
              "      box-shadow: 0px 1px 3px 1px rgba(0, 0, 0, 0.15);\n",
              "      filter: drop-shadow(0px 1px 2px rgba(0, 0, 0, 0.3));\n",
              "      fill: #FFFFFF;\n",
              "    }\n",
              "  </style>\n",
              "\n",
              "      <script>\n",
              "        const buttonEl =\n",
              "          document.querySelector('#df-71cfd70c-bc52-49c0-854b-2e747003a00c button.colab-df-convert');\n",
              "        buttonEl.style.display =\n",
              "          google.colab.kernel.accessAllowed ? 'block' : 'none';\n",
              "\n",
              "        async function convertToInteractive(key) {\n",
              "          const element = document.querySelector('#df-71cfd70c-bc52-49c0-854b-2e747003a00c');\n",
              "          const dataTable =\n",
              "            await google.colab.kernel.invokeFunction('convertToInteractive',\n",
              "                                                     [key], {});\n",
              "          if (!dataTable) return;\n",
              "\n",
              "          const docLinkHtml = 'Like what you see? Visit the ' +\n",
              "            '<a target=\"_blank\" href=https://colab.research.google.com/notebooks/data_table.ipynb>data table notebook</a>'\n",
              "            + ' to learn more about interactive tables.';\n",
              "          element.innerHTML = '';\n",
              "          dataTable['output_type'] = 'display_data';\n",
              "          await google.colab.output.renderOutput(dataTable, element);\n",
              "          const docLink = document.createElement('div');\n",
              "          docLink.innerHTML = docLinkHtml;\n",
              "          element.appendChild(docLink);\n",
              "        }\n",
              "      </script>\n",
              "    </div>\n",
              "  </div>\n",
              "  "
            ]
          },
          "metadata": {},
          "execution_count": 147
        }
      ]
    },
    {
      "cell_type": "code",
      "source": [
        "#rows and columns\n",
        "df.shape"
      ],
      "metadata": {
        "id": "hU-IabJg-C9d",
        "colab": {
          "base_uri": "https://localhost:8080/"
        },
        "outputId": "e6a4f51b-a0c7-42a8-a6a6-06bb712fd8d9"
      },
      "execution_count": null,
      "outputs": [
        {
          "output_type": "execute_result",
          "data": {
            "text/plain": [
              "(8523, 12)"
            ]
          },
          "metadata": {},
          "execution_count": 148
        }
      ]
    },
    {
      "cell_type": "code",
      "source": [
        "#2.datatypes of each variable\n",
        "df.dtypes"
      ],
      "metadata": {
        "id": "-YU34DPw-J9l",
        "colab": {
          "base_uri": "https://localhost:8080/"
        },
        "outputId": "e2b3fe53-22cf-478f-d5ec-1585f1a946e0"
      },
      "execution_count": null,
      "outputs": [
        {
          "output_type": "execute_result",
          "data": {
            "text/plain": [
              "Item_Identifier               object\n",
              "Item_Weight                  float64\n",
              "Item_Fat_Content              object\n",
              "Item_Visibility              float64\n",
              "Item_Type                     object\n",
              "Item_MRP                     float64\n",
              "Outlet_Identifier             object\n",
              "Outlet_Establishment_Year      int64\n",
              "Outlet_Size                   object\n",
              "Outlet_Location_Type          object\n",
              "Outlet_Type                   object\n",
              "Item_Outlet_Sales            float64\n",
              "dtype: object"
            ]
          },
          "metadata": {},
          "execution_count": 149
        }
      ]
    },
    {
      "cell_type": "code",
      "source": [
        "#3.Are there duplicates \n",
        "df.duplicated().sum()\n"
      ],
      "metadata": {
        "id": "Qiyli0KS-Mvv",
        "colab": {
          "base_uri": "https://localhost:8080/"
        },
        "outputId": "eef7292d-0b1c-4e3a-b80f-6978d1144dc8"
      },
      "execution_count": null,
      "outputs": [
        {
          "output_type": "execute_result",
          "data": {
            "text/plain": [
              "0"
            ]
          },
          "metadata": {},
          "execution_count": 150
        }
      ]
    },
    {
      "cell_type": "code",
      "source": [
        "\n",
        "#4.identify missing values\n",
        "df.nunique()"
      ],
      "metadata": {
        "id": "iPAa-Jr--lZb",
        "colab": {
          "base_uri": "https://localhost:8080/"
        },
        "outputId": "2232badb-5081-4472-b789-b5e65a9a8e43"
      },
      "execution_count": null,
      "outputs": [
        {
          "output_type": "execute_result",
          "data": {
            "text/plain": [
              "Item_Identifier              1559\n",
              "Item_Weight                   415\n",
              "Item_Fat_Content                5\n",
              "Item_Visibility              7880\n",
              "Item_Type                      16\n",
              "Item_MRP                     5938\n",
              "Outlet_Identifier              10\n",
              "Outlet_Establishment_Year       9\n",
              "Outlet_Size                     3\n",
              "Outlet_Location_Type            3\n",
              "Outlet_Type                     4\n",
              "Item_Outlet_Sales            3493\n",
              "dtype: int64"
            ]
          },
          "metadata": {},
          "execution_count": 151
        }
      ]
    },
    {
      "cell_type": "code",
      "source": [
        "\n",
        "#5. how to address missing value, for specific items missing value \n",
        "# From observing data, we know that Item_Outlet_Sales are the most important value\n",
        "# The Item_sales value depends on Item_weight and Outlet_Size.\n",
        "# It is based on (MAR)missing at random method, the values between item_weigt and item size are unrelated to item sales \n",
        "\n",
        "df_item_w = df['Item_Weight'].isna()\n",
        "df_item_size = df['Outlet_Size'].isna()\n",
        "df_w_lk = df[df_item_w]\n",
        "df_s_lk = df[df_item_size]\n",
        "\n",
        "in_row = df[['Item_Type','Item_Weight']]\n",
        "food_val = df.groupby('Item_Type')['Item_Weight'].median()\n",
        "food_val.reset_index()\n",
        "\n",
        "df['Item_Weight'].fillna(0,inplace=True)\n",
        "df['Outlet_Size'].fillna('Missing',inplace=True)\n",
        "\n",
        "\n",
        "df.isna().sum()\n"
      ],
      "metadata": {
        "id": "55vXS0iv-k8o",
        "colab": {
          "base_uri": "https://localhost:8080/"
        },
        "outputId": "492cccd1-158b-424f-f8ba-e7f9d56f74f3"
      },
      "execution_count": null,
      "outputs": [
        {
          "output_type": "execute_result",
          "data": {
            "text/plain": [
              "Item_Identifier              0\n",
              "Item_Weight                  0\n",
              "Item_Fat_Content             0\n",
              "Item_Visibility              0\n",
              "Item_Type                    0\n",
              "Item_MRP                     0\n",
              "Outlet_Identifier            0\n",
              "Outlet_Establishment_Year    0\n",
              "Outlet_Size                  0\n",
              "Outlet_Location_Type         0\n",
              "Outlet_Type                  0\n",
              "Item_Outlet_Sales            0\n",
              "dtype: int64"
            ]
          },
          "metadata": {},
          "execution_count": 152
        }
      ]
    },
    {
      "cell_type": "code",
      "source": [
        "#6.To confirm no missing values\n",
        "df.isna().sum()"
      ],
      "metadata": {
        "id": "ZRHkGYoY_GgX",
        "colab": {
          "base_uri": "https://localhost:8080/"
        },
        "outputId": "1d6a75f6-22de-4627-991d-d93672ad35ae"
      },
      "execution_count": null,
      "outputs": [
        {
          "output_type": "execute_result",
          "data": {
            "text/plain": [
              "Item_Identifier              0\n",
              "Item_Weight                  0\n",
              "Item_Fat_Content             0\n",
              "Item_Visibility              0\n",
              "Item_Type                    0\n",
              "Item_MRP                     0\n",
              "Outlet_Identifier            0\n",
              "Outlet_Establishment_Year    0\n",
              "Outlet_Size                  0\n",
              "Outlet_Location_Type         0\n",
              "Outlet_Type                  0\n",
              "Item_Outlet_Sales            0\n",
              "dtype: int64"
            ]
          },
          "metadata": {},
          "execution_count": 153
        }
      ]
    },
    {
      "cell_type": "code",
      "source": [
        "#7.Fixed inconsistent categories of data LF to Low Fat, reg to Regular and low fat to Low Fat\n",
        "df['Item_Fat_Content'] = df['Item_Fat_Content'].replace('LF','Low Fat').replace('reg','Regular').replace('low fat','Low Fat')\n",
        "df['Item_Fat_Content'].value_counts()"
      ],
      "metadata": {
        "id": "PhBs4Rhu_GQX",
        "colab": {
          "base_uri": "https://localhost:8080/"
        },
        "outputId": "83752e87-8ed1-46a8-bbb8-a7e92119e30b"
      },
      "execution_count": null,
      "outputs": [
        {
          "output_type": "execute_result",
          "data": {
            "text/plain": [
              "Low Fat    5517\n",
              "Regular    3006\n",
              "Name: Item_Fat_Content, dtype: int64"
            ]
          },
          "metadata": {},
          "execution_count": 154
        }
      ]
    },
    {
      "cell_type": "code",
      "source": [
        "#8.find the min, max, and mean of  Item_MRP , Item_Outlet_Sales\n",
        "#df['Item_Weight'].value_counts()\n",
        "\n",
        "val = df.groupby('Item_Type').agg({'Item_MRP':['min','max','mean'],'Item_Outlet_Sales':['min','max','mean'],'Item_Weight':['min','max','mean']}).round(2)\n",
        "\n",
        "\n",
        "val\n"
      ],
      "metadata": {
        "id": "umlb2zKM_FTI",
        "colab": {
          "base_uri": "https://localhost:8080/",
          "height": 614
        },
        "outputId": "c6beb56a-687d-4a69-ebff-71a5c7ebacf8"
      },
      "execution_count": null,
      "outputs": [
        {
          "output_type": "execute_result",
          "data": {
            "text/plain": [
              "                      Item_MRP                 Item_Outlet_Sales            \\\n",
              "                           min     max    mean               min       max   \n",
              "Item_Type                                                                    \n",
              "Baking Goods             33.99  265.56  126.38             37.28   7931.68   \n",
              "Breads                   31.96  263.66  140.95             35.29   8958.34   \n",
              "Breakfast                40.05  234.93  141.79             39.95   8209.31   \n",
              "Canned                   36.35  266.89  139.76             37.95  10306.58   \n",
              "Dairy                    33.49  266.69  148.50             40.61  10256.65   \n",
              "Frozen Foods             31.96  264.89  138.50             36.62   9678.07   \n",
              "Fruits and Vegetables    36.25  264.23  144.58             45.27  12117.56   \n",
              "Hard Drinks              34.25  261.43  137.08             37.95   7843.12   \n",
              "Health and Hygiene       33.12  266.69  130.82             34.62   9779.94   \n",
              "Household                32.46  264.79  149.42             33.29  13086.96   \n",
              "Meat                     34.75  261.59  139.88             47.94   9390.44   \n",
              "Others                   35.02  254.90  132.85             39.95   6008.84   \n",
              "Seafood                  33.72  240.29  141.84            149.80   6503.53   \n",
              "Snack Foods              32.36  264.96  146.19             33.96  10993.69   \n",
              "Soft Drinks              31.29  263.59  131.49             33.29   9554.23   \n",
              "Starchy Foods            34.05  263.03  147.84             58.59   8132.08   \n",
              "\n",
              "                               Item_Weight                \n",
              "                          mean         min    max   mean  \n",
              "Item_Type                                                 \n",
              "Baking Goods           1952.97         0.0  20.85  10.16  \n",
              "Breads                 2204.13         0.0  20.85   9.22  \n",
              "Breakfast              2111.81         0.0  21.10  10.33  \n",
              "Canned                 2225.19         0.0  21.35  10.22  \n",
              "Dairy                  2232.54         0.0  20.70  11.14  \n",
              "Frozen Foods           2132.87         0.0  20.85  10.79  \n",
              "Fruits and Vegetables  2289.01         0.0  21.35  10.94  \n",
              "Hard Drinks            2139.22         0.0  19.70   9.75  \n",
              "Health and Hygiene     2010.00         0.0  21.25  10.87  \n",
              "Household              2258.78         0.0  21.25  11.16  \n",
              "Meat                   2158.98         0.0  21.25  10.16  \n",
              "Others                 1926.14         0.0  20.50  11.23  \n",
              "Seafood                2326.07         0.0  20.75  10.00  \n",
              "Snack Foods            2277.32         0.0  21.25  10.69  \n",
              "Soft Drinks            2006.51         0.0  20.75   9.96  \n",
              "Starchy Foods          2374.33         0.0  21.20  12.03  "
            ],
            "text/html": [
              "\n",
              "  <div id=\"df-f5d96149-87f0-458b-abf8-99f53d29381a\">\n",
              "    <div class=\"colab-df-container\">\n",
              "      <div>\n",
              "<style scoped>\n",
              "    .dataframe tbody tr th:only-of-type {\n",
              "        vertical-align: middle;\n",
              "    }\n",
              "\n",
              "    .dataframe tbody tr th {\n",
              "        vertical-align: top;\n",
              "    }\n",
              "\n",
              "    .dataframe thead tr th {\n",
              "        text-align: left;\n",
              "    }\n",
              "\n",
              "    .dataframe thead tr:last-of-type th {\n",
              "        text-align: right;\n",
              "    }\n",
              "</style>\n",
              "<table border=\"1\" class=\"dataframe\">\n",
              "  <thead>\n",
              "    <tr>\n",
              "      <th></th>\n",
              "      <th colspan=\"3\" halign=\"left\">Item_MRP</th>\n",
              "      <th colspan=\"3\" halign=\"left\">Item_Outlet_Sales</th>\n",
              "      <th colspan=\"3\" halign=\"left\">Item_Weight</th>\n",
              "    </tr>\n",
              "    <tr>\n",
              "      <th></th>\n",
              "      <th>min</th>\n",
              "      <th>max</th>\n",
              "      <th>mean</th>\n",
              "      <th>min</th>\n",
              "      <th>max</th>\n",
              "      <th>mean</th>\n",
              "      <th>min</th>\n",
              "      <th>max</th>\n",
              "      <th>mean</th>\n",
              "    </tr>\n",
              "    <tr>\n",
              "      <th>Item_Type</th>\n",
              "      <th></th>\n",
              "      <th></th>\n",
              "      <th></th>\n",
              "      <th></th>\n",
              "      <th></th>\n",
              "      <th></th>\n",
              "      <th></th>\n",
              "      <th></th>\n",
              "      <th></th>\n",
              "    </tr>\n",
              "  </thead>\n",
              "  <tbody>\n",
              "    <tr>\n",
              "      <th>Baking Goods</th>\n",
              "      <td>33.99</td>\n",
              "      <td>265.56</td>\n",
              "      <td>126.38</td>\n",
              "      <td>37.28</td>\n",
              "      <td>7931.68</td>\n",
              "      <td>1952.97</td>\n",
              "      <td>0.0</td>\n",
              "      <td>20.85</td>\n",
              "      <td>10.16</td>\n",
              "    </tr>\n",
              "    <tr>\n",
              "      <th>Breads</th>\n",
              "      <td>31.96</td>\n",
              "      <td>263.66</td>\n",
              "      <td>140.95</td>\n",
              "      <td>35.29</td>\n",
              "      <td>8958.34</td>\n",
              "      <td>2204.13</td>\n",
              "      <td>0.0</td>\n",
              "      <td>20.85</td>\n",
              "      <td>9.22</td>\n",
              "    </tr>\n",
              "    <tr>\n",
              "      <th>Breakfast</th>\n",
              "      <td>40.05</td>\n",
              "      <td>234.93</td>\n",
              "      <td>141.79</td>\n",
              "      <td>39.95</td>\n",
              "      <td>8209.31</td>\n",
              "      <td>2111.81</td>\n",
              "      <td>0.0</td>\n",
              "      <td>21.10</td>\n",
              "      <td>10.33</td>\n",
              "    </tr>\n",
              "    <tr>\n",
              "      <th>Canned</th>\n",
              "      <td>36.35</td>\n",
              "      <td>266.89</td>\n",
              "      <td>139.76</td>\n",
              "      <td>37.95</td>\n",
              "      <td>10306.58</td>\n",
              "      <td>2225.19</td>\n",
              "      <td>0.0</td>\n",
              "      <td>21.35</td>\n",
              "      <td>10.22</td>\n",
              "    </tr>\n",
              "    <tr>\n",
              "      <th>Dairy</th>\n",
              "      <td>33.49</td>\n",
              "      <td>266.69</td>\n",
              "      <td>148.50</td>\n",
              "      <td>40.61</td>\n",
              "      <td>10256.65</td>\n",
              "      <td>2232.54</td>\n",
              "      <td>0.0</td>\n",
              "      <td>20.70</td>\n",
              "      <td>11.14</td>\n",
              "    </tr>\n",
              "    <tr>\n",
              "      <th>Frozen Foods</th>\n",
              "      <td>31.96</td>\n",
              "      <td>264.89</td>\n",
              "      <td>138.50</td>\n",
              "      <td>36.62</td>\n",
              "      <td>9678.07</td>\n",
              "      <td>2132.87</td>\n",
              "      <td>0.0</td>\n",
              "      <td>20.85</td>\n",
              "      <td>10.79</td>\n",
              "    </tr>\n",
              "    <tr>\n",
              "      <th>Fruits and Vegetables</th>\n",
              "      <td>36.25</td>\n",
              "      <td>264.23</td>\n",
              "      <td>144.58</td>\n",
              "      <td>45.27</td>\n",
              "      <td>12117.56</td>\n",
              "      <td>2289.01</td>\n",
              "      <td>0.0</td>\n",
              "      <td>21.35</td>\n",
              "      <td>10.94</td>\n",
              "    </tr>\n",
              "    <tr>\n",
              "      <th>Hard Drinks</th>\n",
              "      <td>34.25</td>\n",
              "      <td>261.43</td>\n",
              "      <td>137.08</td>\n",
              "      <td>37.95</td>\n",
              "      <td>7843.12</td>\n",
              "      <td>2139.22</td>\n",
              "      <td>0.0</td>\n",
              "      <td>19.70</td>\n",
              "      <td>9.75</td>\n",
              "    </tr>\n",
              "    <tr>\n",
              "      <th>Health and Hygiene</th>\n",
              "      <td>33.12</td>\n",
              "      <td>266.69</td>\n",
              "      <td>130.82</td>\n",
              "      <td>34.62</td>\n",
              "      <td>9779.94</td>\n",
              "      <td>2010.00</td>\n",
              "      <td>0.0</td>\n",
              "      <td>21.25</td>\n",
              "      <td>10.87</td>\n",
              "    </tr>\n",
              "    <tr>\n",
              "      <th>Household</th>\n",
              "      <td>32.46</td>\n",
              "      <td>264.79</td>\n",
              "      <td>149.42</td>\n",
              "      <td>33.29</td>\n",
              "      <td>13086.96</td>\n",
              "      <td>2258.78</td>\n",
              "      <td>0.0</td>\n",
              "      <td>21.25</td>\n",
              "      <td>11.16</td>\n",
              "    </tr>\n",
              "    <tr>\n",
              "      <th>Meat</th>\n",
              "      <td>34.75</td>\n",
              "      <td>261.59</td>\n",
              "      <td>139.88</td>\n",
              "      <td>47.94</td>\n",
              "      <td>9390.44</td>\n",
              "      <td>2158.98</td>\n",
              "      <td>0.0</td>\n",
              "      <td>21.25</td>\n",
              "      <td>10.16</td>\n",
              "    </tr>\n",
              "    <tr>\n",
              "      <th>Others</th>\n",
              "      <td>35.02</td>\n",
              "      <td>254.90</td>\n",
              "      <td>132.85</td>\n",
              "      <td>39.95</td>\n",
              "      <td>6008.84</td>\n",
              "      <td>1926.14</td>\n",
              "      <td>0.0</td>\n",
              "      <td>20.50</td>\n",
              "      <td>11.23</td>\n",
              "    </tr>\n",
              "    <tr>\n",
              "      <th>Seafood</th>\n",
              "      <td>33.72</td>\n",
              "      <td>240.29</td>\n",
              "      <td>141.84</td>\n",
              "      <td>149.80</td>\n",
              "      <td>6503.53</td>\n",
              "      <td>2326.07</td>\n",
              "      <td>0.0</td>\n",
              "      <td>20.75</td>\n",
              "      <td>10.00</td>\n",
              "    </tr>\n",
              "    <tr>\n",
              "      <th>Snack Foods</th>\n",
              "      <td>32.36</td>\n",
              "      <td>264.96</td>\n",
              "      <td>146.19</td>\n",
              "      <td>33.96</td>\n",
              "      <td>10993.69</td>\n",
              "      <td>2277.32</td>\n",
              "      <td>0.0</td>\n",
              "      <td>21.25</td>\n",
              "      <td>10.69</td>\n",
              "    </tr>\n",
              "    <tr>\n",
              "      <th>Soft Drinks</th>\n",
              "      <td>31.29</td>\n",
              "      <td>263.59</td>\n",
              "      <td>131.49</td>\n",
              "      <td>33.29</td>\n",
              "      <td>9554.23</td>\n",
              "      <td>2006.51</td>\n",
              "      <td>0.0</td>\n",
              "      <td>20.75</td>\n",
              "      <td>9.96</td>\n",
              "    </tr>\n",
              "    <tr>\n",
              "      <th>Starchy Foods</th>\n",
              "      <td>34.05</td>\n",
              "      <td>263.03</td>\n",
              "      <td>147.84</td>\n",
              "      <td>58.59</td>\n",
              "      <td>8132.08</td>\n",
              "      <td>2374.33</td>\n",
              "      <td>0.0</td>\n",
              "      <td>21.20</td>\n",
              "      <td>12.03</td>\n",
              "    </tr>\n",
              "  </tbody>\n",
              "</table>\n",
              "</div>\n",
              "      <button class=\"colab-df-convert\" onclick=\"convertToInteractive('df-f5d96149-87f0-458b-abf8-99f53d29381a')\"\n",
              "              title=\"Convert this dataframe to an interactive table.\"\n",
              "              style=\"display:none;\">\n",
              "        \n",
              "  <svg xmlns=\"http://www.w3.org/2000/svg\" height=\"24px\"viewBox=\"0 0 24 24\"\n",
              "       width=\"24px\">\n",
              "    <path d=\"M0 0h24v24H0V0z\" fill=\"none\"/>\n",
              "    <path d=\"M18.56 5.44l.94 2.06.94-2.06 2.06-.94-2.06-.94-.94-2.06-.94 2.06-2.06.94zm-11 1L8.5 8.5l.94-2.06 2.06-.94-2.06-.94L8.5 2.5l-.94 2.06-2.06.94zm10 10l.94 2.06.94-2.06 2.06-.94-2.06-.94-.94-2.06-.94 2.06-2.06.94z\"/><path d=\"M17.41 7.96l-1.37-1.37c-.4-.4-.92-.59-1.43-.59-.52 0-1.04.2-1.43.59L10.3 9.45l-7.72 7.72c-.78.78-.78 2.05 0 2.83L4 21.41c.39.39.9.59 1.41.59.51 0 1.02-.2 1.41-.59l7.78-7.78 2.81-2.81c.8-.78.8-2.07 0-2.86zM5.41 20L4 18.59l7.72-7.72 1.47 1.35L5.41 20z\"/>\n",
              "  </svg>\n",
              "      </button>\n",
              "      \n",
              "  <style>\n",
              "    .colab-df-container {\n",
              "      display:flex;\n",
              "      flex-wrap:wrap;\n",
              "      gap: 12px;\n",
              "    }\n",
              "\n",
              "    .colab-df-convert {\n",
              "      background-color: #E8F0FE;\n",
              "      border: none;\n",
              "      border-radius: 50%;\n",
              "      cursor: pointer;\n",
              "      display: none;\n",
              "      fill: #1967D2;\n",
              "      height: 32px;\n",
              "      padding: 0 0 0 0;\n",
              "      width: 32px;\n",
              "    }\n",
              "\n",
              "    .colab-df-convert:hover {\n",
              "      background-color: #E2EBFA;\n",
              "      box-shadow: 0px 1px 2px rgba(60, 64, 67, 0.3), 0px 1px 3px 1px rgba(60, 64, 67, 0.15);\n",
              "      fill: #174EA6;\n",
              "    }\n",
              "\n",
              "    [theme=dark] .colab-df-convert {\n",
              "      background-color: #3B4455;\n",
              "      fill: #D2E3FC;\n",
              "    }\n",
              "\n",
              "    [theme=dark] .colab-df-convert:hover {\n",
              "      background-color: #434B5C;\n",
              "      box-shadow: 0px 1px 3px 1px rgba(0, 0, 0, 0.15);\n",
              "      filter: drop-shadow(0px 1px 2px rgba(0, 0, 0, 0.3));\n",
              "      fill: #FFFFFF;\n",
              "    }\n",
              "  </style>\n",
              "\n",
              "      <script>\n",
              "        const buttonEl =\n",
              "          document.querySelector('#df-f5d96149-87f0-458b-abf8-99f53d29381a button.colab-df-convert');\n",
              "        buttonEl.style.display =\n",
              "          google.colab.kernel.accessAllowed ? 'block' : 'none';\n",
              "\n",
              "        async function convertToInteractive(key) {\n",
              "          const element = document.querySelector('#df-f5d96149-87f0-458b-abf8-99f53d29381a');\n",
              "          const dataTable =\n",
              "            await google.colab.kernel.invokeFunction('convertToInteractive',\n",
              "                                                     [key], {});\n",
              "          if (!dataTable) return;\n",
              "\n",
              "          const docLinkHtml = 'Like what you see? Visit the ' +\n",
              "            '<a target=\"_blank\" href=https://colab.research.google.com/notebooks/data_table.ipynb>data table notebook</a>'\n",
              "            + ' to learn more about interactive tables.';\n",
              "          element.innerHTML = '';\n",
              "          dataTable['output_type'] = 'display_data';\n",
              "          await google.colab.output.renderOutput(dataTable, element);\n",
              "          const docLink = document.createElement('div');\n",
              "          docLink.innerHTML = docLinkHtml;\n",
              "          element.appendChild(docLink);\n",
              "        }\n",
              "      </script>\n",
              "    </div>\n",
              "  </div>\n",
              "  "
            ]
          },
          "metadata": {},
          "execution_count": 155
        }
      ]
    },
    {
      "cell_type": "code",
      "source": [
        "#Distirbution of item_type\n",
        "item_counts = df['Item_Type'].value_counts()\n",
        "item_counts.plot(kind='barh')\n",
        "plt.title('Number of entries type_items',fontsize = 20)\n",
        "plt.ylabel('Type of items',fontsize = 15)\n",
        "plt.xlabel('Count',fontsize = 15)\n",
        "plt.show()"
      ],
      "metadata": {
        "id": "AkheUi3htpLC",
        "colab": {
          "base_uri": "https://localhost:8080/",
          "height": 305
        },
        "outputId": "b0c3b3e2-a750-4f96-c7d2-a667eb65c08c"
      },
      "execution_count": null,
      "outputs": [
        {
          "output_type": "display_data",
          "data": {
            "text/plain": [
              "<Figure size 432x288 with 1 Axes>"
            ],
            "image/png": "[encoded data removed]"
          },
          "metadata": {
            "needs_background": "light"
          }
        }
      ]
    },
    {
      "cell_type": "code",
      "source": [
        "# Distribution of item_fat\n",
        "item_fat = df['Item_Fat_Content'].value_counts()\n",
        "item_fat.plot(kind='bar')\n",
        "#item_fat\n",
        "plt.title('Item_fat content')\n",
        "plt.show()\n",
        "\n",
        "#low fat items has great distribution"
      ],
      "metadata": {
        "id": "DKU3FuXrtpRG",
        "colab": {
          "base_uri": "https://localhost:8080/",
          "height": 310
        },
        "outputId": "d0742a98-397a-4260-b75f-c7625a5a8e2f"
      },
      "execution_count": null,
      "outputs": [
        {
          "output_type": "display_data",
          "data": {
            "text/plain": [
              "<Figure size 432x288 with 1 Axes>"
            ],
            "image/png": "[encoded data removed]"
          },
          "metadata": {
            "needs_background": "light"
          }
        }
      ]
    },
    {
      "cell_type": "code",
      "source": [
        "# Distribution of item_size \n",
        "item_size = df['Outlet_Size'].value_counts()\n",
        "item_size.plot(kind='barh')\n",
        "#item_fat\n",
        "plt.title('Item size')\n",
        "plt.xlabel('Count')\n",
        "plt.ylabel('type')\n",
        "plt.show()\n",
        "\n",
        "#medium size items have great distirbution"
      ],
      "metadata": {
        "id": "XWQ2_P4vtpUO",
        "colab": {
          "base_uri": "https://localhost:8080/",
          "height": 295
        },
        "outputId": "916a1158-8b89-4f9d-9ac9-436ce0226dc9"
      },
      "execution_count": null,
      "outputs": [
        {
          "output_type": "display_data",
          "data": {
            "text/plain": [
              "<Figure size 432x288 with 1 Axes>"
            ],
            "image/png": "[encoded data removed]"
          },
          "metadata": {
            "needs_background": "light"
          }
        }
      ]
    },
    {
      "cell_type": "code",
      "source": [
        "#distribution of items in year \n",
        "year = df['Outlet_Establishment_Year'].value_counts()\n",
        "year.plot(kind='barh')\n",
        "plt.xlabel('count')\n",
        "plt.ylabel('year')\n",
        "plt.show()\n",
        "\n",
        "#1985 is a great distribution year"
      ],
      "metadata": {
        "id": "qcb0El4dtpWu",
        "colab": {
          "base_uri": "https://localhost:8080/",
          "height": 279
        },
        "outputId": "bcd67d42-5ba3-416d-8ae0-8ca7f406706b"
      },
      "execution_count": null,
      "outputs": [
        {
          "output_type": "display_data",
          "data": {
            "text/plain": [
              "<Figure size 432x288 with 1 Axes>"
            ],
            "image/png": "[encoded data removed]"
          },
          "metadata": {
            "needs_background": "light"
          }
        }
      ]
    },
    {
      "cell_type": "code",
      "source": [
        "#distribution of item_outlet_sales by each item\n",
        "sns.barplot(data=df,x='Item_Outlet_Sales',y='Item_Type');\n"
      ],
      "metadata": {
        "colab": {
          "base_uri": "https://localhost:8080/",
          "height": 280
        },
        "id": "-Un8Qqu1Fevo",
        "outputId": "d8cb4f68-7be4-48d3-cc58-f40c923e3772"
      },
      "execution_count": 175,
      "outputs": [
        {
          "output_type": "display_data",
          "data": {
            "text/plain": [
              "<Figure size 432x288 with 1 Axes>"
            ],
            "image/png": "[encoded data removed]"
          },
          "metadata": {
            "needs_background": "light"
          }
        }
      ]
    },
    {
      "cell_type": "code",
      "source": [
        "#distribution of item_weight by each item\n",
        "sns.barplot(data=df,x='Item_Weight',y='Item_Type');"
      ],
      "metadata": {
        "colab": {
          "base_uri": "https://localhost:8080/",
          "height": 280
        },
        "id": "KWXrmTqzGGTU",
        "outputId": "f85a102f-3f45-462b-c595-57c9fc1c5971"
      },
      "execution_count": 174,
      "outputs": [
        {
          "output_type": "display_data",
          "data": {
            "text/plain": [
              "<Figure size 432x288 with 1 Axes>"
            ],
            "image/png": "[encoded data removed]"
          },
          "metadata": {
            "needs_background": "light"
          }
        }
      ]
    },
    {
      "cell_type": "code",
      "source": [
        "#distribution of item_weight\n",
        "df.boxplot(['Item_Outlet_Sales'],\n",
        "           by='Item_Type',\n",
        "           figsize=(15,5),\n",
        "           fontsize = 12,\n",
        "           rot=90,\n",
        "           grid=False\n",
        "           );\n",
        "plt.show();\n",
        "\n",
        "#Starchy Foods have great variety "
      ],
      "metadata": {
        "id": "QDqLsNjmtpZK",
        "colab": {
          "base_uri": "https://localhost:8080/",
          "height": 538
        },
        "outputId": "c892dbd1-d208-477a-eb48-cb6aed416a6b"
      },
      "execution_count": 176,
      "outputs": [
        {
          "output_type": "stream",
          "name": "stderr",
          "text": [
            "/usr/local/lib/python3.7/dist-packages/matplotlib/cbook/__init__.py:1376: VisibleDeprecationWarning: Creating an ndarray from ragged nested sequences (which is a list-or-tuple of lists-or-tuples-or ndarrays with different lengths or shapes) is deprecated. If you meant to do this, you must specify 'dtype=object' when creating the ndarray.\n",
            "  X = np.atleast_1d(X.T if isinstance(X, np.ndarray) else np.asarray(X))\n"
          ]
        },
        {
          "output_type": "display_data",
          "data": {
            "text/plain": [
              "<Figure size 1080x360 with 1 Axes>"
            ],
            "image/png": "[encoded data removed]"
          },
          "metadata": {
            "needs_background": "light"
          }
        }
      ]
    },
    {
      "cell_type": "code",
      "source": [
        "corr = df.corr()\n",
        "sns.heatmap(corr,cmap='Greens',annot=True);"
      ],
      "metadata": {
        "colab": {
          "base_uri": "https://localhost:8080/",
          "height": 392
        },
        "id": "cOFIJ9KLYiTI",
        "outputId": "6d519dbe-36cf-47ff-a1c0-0c4aff8e1bc2"
      },
      "execution_count": null,
      "outputs": [
        {
          "output_type": "display_data",
          "data": {
            "text/plain": [
              "<Figure size 432x288 with 2 Axes>"
            ],
            "image/png": "[encoded data removed]"
          },
          "metadata": {
            "needs_background": "light"
          }
        }
      ]
    }
  ]
}